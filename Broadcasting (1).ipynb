{
  "nbformat": 4,
  "nbformat_minor": 0,
  "metadata": {
    "colab": {
      "name": "Broadcasting.ipynb",
      "version": "0.3.2",
      "provenance": [],
      "collapsed_sections": []
    },
    "kernelspec": {
      "display_name": "Python 2",
      "language": "python",
      "name": "python2"
    }
  },
  "cells": [
    {
      "metadata": {
        "id": "fJUg_k4sRNdM",
        "colab_type": "text"
      },
      "cell_type": "markdown",
      "source": [
        "<h1>Broadcasting</h1>"
      ]
    },
    {
      "metadata": {
        "id": "7goMVb8rRNdO",
        "colab_type": "code",
        "colab": {}
      },
      "cell_type": "code",
      "source": [
        "import numpy as np"
      ],
      "execution_count": 0,
      "outputs": []
    },
    {
      "metadata": {
        "id": "B68zZvpeRNdR",
        "colab_type": "code",
        "colab": {
          "base_uri": "https://localhost:8080/",
          "height": 272
        },
        "outputId": "5568ef72-7d64-45ee-c717-9fb5271550c1"
      },
      "cell_type": "code",
      "source": [
        "my_3D_array = np.arange(70)\n",
        "my_3D_array.shape = (2,7,5)\n",
        "my_3D_array"
      ],
      "execution_count": 2,
      "outputs": [
        {
          "output_type": "execute_result",
          "data": {
            "text/plain": [
              "array([[[ 0,  1,  2,  3,  4],\n",
              "        [ 5,  6,  7,  8,  9],\n",
              "        [10, 11, 12, 13, 14],\n",
              "        [15, 16, 17, 18, 19],\n",
              "        [20, 21, 22, 23, 24],\n",
              "        [25, 26, 27, 28, 29],\n",
              "        [30, 31, 32, 33, 34]],\n",
              "\n",
              "       [[35, 36, 37, 38, 39],\n",
              "        [40, 41, 42, 43, 44],\n",
              "        [45, 46, 47, 48, 49],\n",
              "        [50, 51, 52, 53, 54],\n",
              "        [55, 56, 57, 58, 59],\n",
              "        [60, 61, 62, 63, 64],\n",
              "        [65, 66, 67, 68, 69]]])"
            ]
          },
          "metadata": {
            "tags": []
          },
          "execution_count": 2
        }
      ]
    },
    {
      "metadata": {
        "id": "8WRsbdrjRQL8",
        "colab_type": "code",
        "colab": {}
      },
      "cell_type": "code",
      "source": [
        "#Broadcasting means operations on Arrays of different sizes. Smaller array \n",
        "#broadcasted on the bigger\n"
      ],
      "execution_count": 0,
      "outputs": []
    },
    {
      "metadata": {
        "id": "CZoBlO72RmUn",
        "colab_type": "code",
        "colab": {
          "base_uri": "https://localhost:8080/",
          "height": 34
        },
        "outputId": "6757eaa5-dc82-41a5-d095-22a3b1873bf5"
      },
      "cell_type": "code",
      "source": [
        "#shape\n",
        "my_3D_array.shape"
      ],
      "execution_count": 3,
      "outputs": [
        {
          "output_type": "execute_result",
          "data": {
            "text/plain": [
              "(2, 7, 5)"
            ]
          },
          "metadata": {
            "tags": []
          },
          "execution_count": 3
        }
      ]
    },
    {
      "metadata": {
        "id": "ulZm75VLRq-l",
        "colab_type": "code",
        "colab": {
          "base_uri": "https://localhost:8080/",
          "height": 34
        },
        "outputId": "103a3914-01d6-4459-cb96-367153611e1f"
      },
      "cell_type": "code",
      "source": [
        "#No. of dimensions\n",
        "my_3D_array.ndim"
      ],
      "execution_count": 4,
      "outputs": [
        {
          "output_type": "execute_result",
          "data": {
            "text/plain": [
              "3"
            ]
          },
          "metadata": {
            "tags": []
          },
          "execution_count": 4
        }
      ]
    },
    {
      "metadata": {
        "id": "2e_6oiDHRxFl",
        "colab_type": "code",
        "colab": {
          "base_uri": "https://localhost:8080/",
          "height": 34
        },
        "outputId": "07b35f75-5d16-47f8-b298-02ff3cf77c93"
      },
      "cell_type": "code",
      "source": [
        "#size\n",
        "my_3D_array.size"
      ],
      "execution_count": 5,
      "outputs": [
        {
          "output_type": "execute_result",
          "data": {
            "text/plain": [
              "70"
            ]
          },
          "metadata": {
            "tags": []
          },
          "execution_count": 5
        }
      ]
    },
    {
      "metadata": {
        "id": "HtkPB_XNR30R",
        "colab_type": "code",
        "colab": {
          "base_uri": "https://localhost:8080/",
          "height": 34
        },
        "outputId": "c3306e80-b3be-4f0e-8d4a-fc7e62bb8ba9"
      },
      "cell_type": "code",
      "source": [
        "#Datatype\n",
        "my_3D_array.dtype"
      ],
      "execution_count": 6,
      "outputs": [
        {
          "output_type": "execute_result",
          "data": {
            "text/plain": [
              "dtype('int64')"
            ]
          },
          "metadata": {
            "tags": []
          },
          "execution_count": 6
        }
      ]
    },
    {
      "metadata": {
        "id": "mxO0nr1ISFPd",
        "colab_type": "code",
        "colab": {
          "base_uri": "https://localhost:8080/",
          "height": 272
        },
        "outputId": "c29c85e1-fc0d-491a-ddae-e4ab84a1a9fb"
      },
      "cell_type": "code",
      "source": [
        "5 * my_3D_array -2"
      ],
      "execution_count": 7,
      "outputs": [
        {
          "output_type": "execute_result",
          "data": {
            "text/plain": [
              "array([[[ -2,   3,   8,  13,  18],\n",
              "        [ 23,  28,  33,  38,  43],\n",
              "        [ 48,  53,  58,  63,  68],\n",
              "        [ 73,  78,  83,  88,  93],\n",
              "        [ 98, 103, 108, 113, 118],\n",
              "        [123, 128, 133, 138, 143],\n",
              "        [148, 153, 158, 163, 168]],\n",
              "\n",
              "       [[173, 178, 183, 188, 193],\n",
              "        [198, 203, 208, 213, 218],\n",
              "        [223, 228, 233, 238, 243],\n",
              "        [248, 253, 258, 263, 268],\n",
              "        [273, 278, 283, 288, 293],\n",
              "        [298, 303, 308, 313, 318],\n",
              "        [323, 328, 333, 338, 343]]])"
            ]
          },
          "metadata": {
            "tags": []
          },
          "execution_count": 7
        }
      ]
    },
    {
      "metadata": {
        "id": "cSzS7LrYSNVM",
        "colab_type": "code",
        "colab": {
          "base_uri": "https://localhost:8080/",
          "height": 68
        },
        "outputId": "1de01131-137e-4535-f364-c581a3251091"
      },
      "cell_type": "code",
      "source": [
        "left_mat = np.arange(6).reshape(2,3)\n",
        "right_mat = np.arange(15).reshape(3,5)\n",
        "right_mat\n"
      ],
      "execution_count": 15,
      "outputs": [
        {
          "output_type": "execute_result",
          "data": {
            "text/plain": [
              "array([[ 0,  1,  2,  3,  4],\n",
              "       [ 5,  6,  7,  8,  9],\n",
              "       [10, 11, 12, 13, 14]])"
            ]
          },
          "metadata": {
            "tags": []
          },
          "execution_count": 15
        }
      ]
    },
    {
      "metadata": {
        "id": "5X2U5_gdVXCB",
        "colab_type": "code",
        "colab": {
          "base_uri": "https://localhost:8080/",
          "height": 51
        },
        "outputId": "81edaf04-5aa8-4447-c073-2f60f0977ff6"
      },
      "cell_type": "code",
      "source": [
        "left_mat"
      ],
      "execution_count": 16,
      "outputs": [
        {
          "output_type": "execute_result",
          "data": {
            "text/plain": [
              "array([[0, 1, 2],\n",
              "       [3, 4, 5]])"
            ]
          },
          "metadata": {
            "tags": []
          },
          "execution_count": 16
        }
      ]
    },
    {
      "metadata": {
        "id": "GgjlhjNTTUmn",
        "colab_type": "code",
        "colab": {
          "base_uri": "https://localhost:8080/",
          "height": 163
        },
        "outputId": "30b05a4e-a465-4223-d9a0-d886704ac6f5"
      },
      "cell_type": "code",
      "source": [
        "np.inner(left_mat, right_mat)"
      ],
      "execution_count": 13,
      "outputs": [
        {
          "output_type": "error",
          "ename": "ValueError",
          "evalue": "ignored",
          "traceback": [
            "\u001b[0;31m\u001b[0m",
            "\u001b[0;31mValueError\u001b[0mTraceback (most recent call last)",
            "\u001b[0;32m<ipython-input-13-2fd2ab783eeb>\u001b[0m in \u001b[0;36m<module>\u001b[0;34m()\u001b[0m\n\u001b[0;32m----> 1\u001b[0;31m \u001b[0mnp\u001b[0m\u001b[0;34m.\u001b[0m\u001b[0minner\u001b[0m\u001b[0;34m(\u001b[0m\u001b[0mleft_mat\u001b[0m\u001b[0;34m,\u001b[0m \u001b[0mright_mat\u001b[0m\u001b[0;34m)\u001b[0m\u001b[0;34m\u001b[0m\u001b[0m\n\u001b[0m",
            "\u001b[0;31mValueError\u001b[0m: shapes (2,3) and (5,3) not aligned: 3 (dim 1) != 5 (dim 0)"
          ]
        }
      ]
    },
    {
      "metadata": {
        "id": "ThDVkuP9Uuyi",
        "colab_type": "code",
        "colab": {
          "base_uri": "https://localhost:8080/",
          "height": 51
        },
        "outputId": "6a4239dc-cf71-4d48-adef-27366791a83b"
      },
      "cell_type": "code",
      "source": [
        "np.dot(left_mat,right_mat)"
      ],
      "execution_count": 14,
      "outputs": [
        {
          "output_type": "execute_result",
          "data": {
            "text/plain": [
              "array([[ 25,  28,  31,  34,  37],\n",
              "       [ 70,  82,  94, 106, 118]])"
            ]
          },
          "metadata": {
            "tags": []
          },
          "execution_count": 14
        }
      ]
    },
    {
      "metadata": {
        "id": "ESMx0hOXVPje",
        "colab_type": "code",
        "colab": {
          "base_uri": "https://localhost:8080/",
          "height": 34
        },
        "outputId": "11c7ac19-b5d3-440e-de0b-40584c3ae1dd"
      },
      "cell_type": "code",
      "source": [
        "### operations along the axes\n",
        "\n",
        "my_3D_array.shape"
      ],
      "execution_count": 17,
      "outputs": [
        {
          "output_type": "execute_result",
          "data": {
            "text/plain": [
              "(2, 7, 5)"
            ]
          },
          "metadata": {
            "tags": []
          },
          "execution_count": 17
        }
      ]
    },
    {
      "metadata": {
        "id": "JleXf3cWWx1K",
        "colab_type": "code",
        "colab": {
          "base_uri": "https://localhost:8080/",
          "height": 34
        },
        "outputId": "08b399fb-4eb3-4eb4-efa4-f8121ca4dfb2"
      },
      "cell_type": "code",
      "source": [
        "my_3D_array.sum()"
      ],
      "execution_count": 18,
      "outputs": [
        {
          "output_type": "execute_result",
          "data": {
            "text/plain": [
              "2415"
            ]
          },
          "metadata": {
            "tags": []
          },
          "execution_count": 18
        }
      ]
    },
    {
      "metadata": {
        "id": "bbRbSPqcW5IL",
        "colab_type": "code",
        "colab": {
          "base_uri": "https://localhost:8080/",
          "height": 34
        },
        "outputId": "e1d4d653-9594-4d48-b94a-68c976ff5ee0"
      },
      "cell_type": "code",
      "source": [
        "69*70/2    ###(n-1)(n)/2"
      ],
      "execution_count": 22,
      "outputs": [
        {
          "output_type": "execute_result",
          "data": {
            "text/plain": [
              "2415"
            ]
          },
          "metadata": {
            "tags": []
          },
          "execution_count": 22
        }
      ]
    },
    {
      "metadata": {
        "id": "9eyLgVeVYWx6",
        "colab_type": "code",
        "colab": {
          "base_uri": "https://localhost:8080/",
          "height": 272
        },
        "outputId": "fc6b4934-0812-4c32-96f8-67bbf03c6047"
      },
      "cell_type": "code",
      "source": [
        "my_3D_array"
      ],
      "execution_count": 23,
      "outputs": [
        {
          "output_type": "execute_result",
          "data": {
            "text/plain": [
              "array([[[ 0,  1,  2,  3,  4],\n",
              "        [ 5,  6,  7,  8,  9],\n",
              "        [10, 11, 12, 13, 14],\n",
              "        [15, 16, 17, 18, 19],\n",
              "        [20, 21, 22, 23, 24],\n",
              "        [25, 26, 27, 28, 29],\n",
              "        [30, 31, 32, 33, 34]],\n",
              "\n",
              "       [[35, 36, 37, 38, 39],\n",
              "        [40, 41, 42, 43, 44],\n",
              "        [45, 46, 47, 48, 49],\n",
              "        [50, 51, 52, 53, 54],\n",
              "        [55, 56, 57, 58, 59],\n",
              "        [60, 61, 62, 63, 64],\n",
              "        [65, 66, 67, 68, 69]]])"
            ]
          },
          "metadata": {
            "tags": []
          },
          "execution_count": 23
        }
      ]
    },
    {
      "metadata": {
        "id": "TTjutcfGXE4V",
        "colab_type": "code",
        "colab": {
          "base_uri": "https://localhost:8080/",
          "height": 136
        },
        "outputId": "f5c5e048-f555-4172-f0bd-6cc06c7eb559"
      },
      "cell_type": "code",
      "source": [
        "my_3D_array.sum(axis = 0) #Summation of the matrices within a 3 D array along rows"
      ],
      "execution_count": 24,
      "outputs": [
        {
          "output_type": "execute_result",
          "data": {
            "text/plain": [
              "array([[ 35,  37,  39,  41,  43],\n",
              "       [ 45,  47,  49,  51,  53],\n",
              "       [ 55,  57,  59,  61,  63],\n",
              "       [ 65,  67,  69,  71,  73],\n",
              "       [ 75,  77,  79,  81,  83],\n",
              "       [ 85,  87,  89,  91,  93],\n",
              "       [ 95,  97,  99, 101, 103]])"
            ]
          },
          "metadata": {
            "tags": []
          },
          "execution_count": 24
        }
      ]
    },
    {
      "metadata": {
        "id": "wfsdTnSZYAkr",
        "colab_type": "code",
        "colab": {
          "base_uri": "https://localhost:8080/",
          "height": 51
        },
        "outputId": "54afaf14-4751-47fa-ed4e-f07fb71f753d"
      },
      "cell_type": "code",
      "source": [
        "my_3D_array.sum(axis = 1)"
      ],
      "execution_count": 25,
      "outputs": [
        {
          "output_type": "execute_result",
          "data": {
            "text/plain": [
              "array([[105, 112, 119, 126, 133],\n",
              "       [350, 357, 364, 371, 378]])"
            ]
          },
          "metadata": {
            "tags": []
          },
          "execution_count": 25
        }
      ]
    },
    {
      "metadata": {
        "id": "BdZVsBZlZaxP",
        "colab_type": "code",
        "colab": {
          "base_uri": "https://localhost:8080/",
          "height": 51
        },
        "outputId": "0fbf677a-44fa-4329-84da-1e8fe32a1a22"
      },
      "cell_type": "code",
      "source": [
        "my_3D_array.sum(axis = 2)"
      ],
      "execution_count": 26,
      "outputs": [
        {
          "output_type": "execute_result",
          "data": {
            "text/plain": [
              "array([[ 10,  35,  60,  85, 110, 135, 160],\n",
              "       [185, 210, 235, 260, 285, 310, 335]])"
            ]
          },
          "metadata": {
            "tags": []
          },
          "execution_count": 26
        }
      ]
    },
    {
      "metadata": {
        "id": "1pa4bmyxa8Ex",
        "colab_type": "text"
      },
      "cell_type": "markdown",
      "source": [
        "# Broadcasting Rules"
      ]
    },
    {
      "metadata": {
        "id": "SfeMd-ktbCbn",
        "colab_type": "code",
        "colab": {
          "base_uri": "https://localhost:8080/",
          "height": 136
        },
        "outputId": "8ab4d596-d7bb-4d80-e430-5b7ebfd8c813"
      },
      "cell_type": "code",
      "source": [
        "my_2D_array = np.ones(35, dtype = 'int_').reshape((7,5))*3\n",
        "my_2D_array"
      ],
      "execution_count": 27,
      "outputs": [
        {
          "output_type": "execute_result",
          "data": {
            "text/plain": [
              "array([[3, 3, 3, 3, 3],\n",
              "       [3, 3, 3, 3, 3],\n",
              "       [3, 3, 3, 3, 3],\n",
              "       [3, 3, 3, 3, 3],\n",
              "       [3, 3, 3, 3, 3],\n",
              "       [3, 3, 3, 3, 3],\n",
              "       [3, 3, 3, 3, 3]])"
            ]
          },
          "metadata": {
            "tags": []
          },
          "execution_count": 27
        }
      ]
    },
    {
      "metadata": {
        "id": "8iqXtIQ3bfZp",
        "colab_type": "code",
        "colab": {
          "base_uri": "https://localhost:8080/",
          "height": 136
        },
        "outputId": "8c16b6af-5256-4606-b956-a123a5fec126"
      },
      "cell_type": "code",
      "source": [
        "my_random_2D_array = np.random.rand(7,5)\n",
        "my_random_2D_array"
      ],
      "execution_count": 37,
      "outputs": [
        {
          "output_type": "execute_result",
          "data": {
            "text/plain": [
              "array([[0.70107556, 0.61336165, 0.34038897, 0.86652214, 0.35490437],\n",
              "       [0.90329944, 0.78797728, 0.36619949, 0.95643221, 0.59772564],\n",
              "       [0.2449488 , 0.0845616 , 0.71091028, 0.61991298, 0.97533725],\n",
              "       [0.81413009, 0.2984894 , 0.31758338, 0.03408791, 0.23479697],\n",
              "       [0.12490393, 0.0464648 , 0.02283882, 0.9085278 , 0.91543129],\n",
              "       [0.1698503 , 0.64468805, 0.37168629, 0.11854799, 0.38479671],\n",
              "       [0.21363861, 0.42615853, 0.25583289, 0.91557966, 0.58626176]])"
            ]
          },
          "metadata": {
            "tags": []
          },
          "execution_count": 37
        }
      ]
    },
    {
      "metadata": {
        "id": "Rd2pK7UYnI_P",
        "colab_type": "code",
        "colab": {
          "base_uri": "https://localhost:8080/",
          "height": 272
        },
        "outputId": "db56605b-2243-4e81-a7ea-b3fe1d784201"
      },
      "cell_type": "code",
      "source": [
        "np.set_printoptions(precision=4)\n",
        "my_3D_array * my_random_2D_array"
      ],
      "execution_count": 38,
      "outputs": [
        {
          "output_type": "execute_result",
          "data": {
            "text/plain": [
              "array([[[ 0.    ,  0.6134,  0.6808,  2.5996,  1.4196],\n",
              "        [ 4.5165,  4.7279,  2.5634,  7.6515,  5.3795],\n",
              "        [ 2.4495,  0.9302,  8.5309,  8.0589, 13.6547],\n",
              "        [12.212 ,  4.7758,  5.3989,  0.6136,  4.4611],\n",
              "        [ 2.4981,  0.9758,  0.5025, 20.8961, 21.9704],\n",
              "        [ 4.2463, 16.7619, 10.0355,  3.3193, 11.1591],\n",
              "        [ 6.4092, 13.2109,  8.1867, 30.2141, 19.9329]],\n",
              "\n",
              "       [[24.5376, 22.081 , 12.5944, 32.9278, 13.8413],\n",
              "        [36.132 , 32.3071, 15.3804, 41.1266, 26.2999],\n",
              "        [11.0227,  3.8898, 33.4128, 29.7558, 47.7915],\n",
              "        [40.7065, 15.223 , 16.5143,  1.8067, 12.679 ],\n",
              "        [ 6.8697,  2.602 ,  1.3018, 52.6946, 54.0104],\n",
              "        [10.191 , 39.326 , 23.0445,  7.4685, 24.627 ],\n",
              "        [13.8865, 28.1265, 17.1408, 62.2594, 40.4521]]])"
            ]
          },
          "metadata": {
            "tags": []
          },
          "execution_count": 38
        }
      ]
    },
    {
      "metadata": {
        "id": "RuFfQs7AoBeM",
        "colab_type": "code",
        "colab": {
          "base_uri": "https://localhost:8080/",
          "height": 34
        },
        "outputId": "56af2767-f200-4fc2-e73d-62338c54bcb7"
      },
      "cell_type": "code",
      "source": [
        "my_vector = np.arange(5) * 7\n",
        "my_vector[0] = -1\n",
        "my_vector"
      ],
      "execution_count": 39,
      "outputs": [
        {
          "output_type": "execute_result",
          "data": {
            "text/plain": [
              "array([-1,  7, 14, 21, 28])"
            ]
          },
          "metadata": {
            "tags": []
          },
          "execution_count": 39
        }
      ]
    },
    {
      "metadata": {
        "id": "GWKV8QVcpGYp",
        "colab_type": "code",
        "colab": {
          "base_uri": "https://localhost:8080/",
          "height": 272
        },
        "outputId": "6295e493-118f-49c2-9a85-1b54c45fd0d8"
      },
      "cell_type": "code",
      "source": [
        "np.set_printoptions(precision=4)\n",
        "my_3D_array / my_vector"
      ],
      "execution_count": 42,
      "outputs": [
        {
          "output_type": "execute_result",
          "data": {
            "text/plain": [
              "array([[[  0,   0,   0,   0,   0],\n",
              "        [ -5,   0,   0,   0,   0],\n",
              "        [-10,   1,   0,   0,   0],\n",
              "        [-15,   2,   1,   0,   0],\n",
              "        [-20,   3,   1,   1,   0],\n",
              "        [-25,   3,   1,   1,   1],\n",
              "        [-30,   4,   2,   1,   1]],\n",
              "\n",
              "       [[-35,   5,   2,   1,   1],\n",
              "        [-40,   5,   3,   2,   1],\n",
              "        [-45,   6,   3,   2,   1],\n",
              "        [-50,   7,   3,   2,   1],\n",
              "        [-55,   8,   4,   2,   2],\n",
              "        [-60,   8,   4,   3,   2],\n",
              "        [-65,   9,   4,   3,   2]]])"
            ]
          },
          "metadata": {
            "tags": []
          },
          "execution_count": 42
        }
      ]
    },
    {
      "metadata": {
        "id": "LZ8090QPpb6L",
        "colab_type": "code",
        "colab": {
          "base_uri": "https://localhost:8080/",
          "height": 272
        },
        "outputId": "8b00ab38-500c-4fb0-a653-b77b1611aa18"
      },
      "cell_type": "code",
      "source": [
        "my_3D_array % my_vector"
      ],
      "execution_count": 43,
      "outputs": [
        {
          "output_type": "execute_result",
          "data": {
            "text/plain": [
              "array([[[ 0,  1,  2,  3,  4],\n",
              "        [ 0,  6,  7,  8,  9],\n",
              "        [ 0,  4, 12, 13, 14],\n",
              "        [ 0,  2,  3, 18, 19],\n",
              "        [ 0,  0,  8,  2, 24],\n",
              "        [ 0,  5, 13,  7,  1],\n",
              "        [ 0,  3,  4, 12,  6]],\n",
              "\n",
              "       [[ 0,  1,  9, 17, 11],\n",
              "        [ 0,  6,  0,  1, 16],\n",
              "        [ 0,  4,  5,  6, 21],\n",
              "        [ 0,  2, 10, 11, 26],\n",
              "        [ 0,  0,  1, 16,  3],\n",
              "        [ 0,  5,  6,  0,  8],\n",
              "        [ 0,  3, 11,  5, 13]]])"
            ]
          },
          "metadata": {
            "tags": []
          },
          "execution_count": 43
        }
      ]
    },
    {
      "metadata": {
        "id": "GdH8zimAp5gO",
        "colab_type": "code",
        "colab": {}
      },
      "cell_type": "code",
      "source": [
        ""
      ],
      "execution_count": 0,
      "outputs": []
    }
  ]
}